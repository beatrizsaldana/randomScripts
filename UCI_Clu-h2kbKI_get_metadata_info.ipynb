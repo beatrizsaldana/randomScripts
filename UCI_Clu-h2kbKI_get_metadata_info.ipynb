{
 "cells": [
  {
   "cell_type": "code",
   "execution_count": 20,
   "metadata": {},
   "outputs": [],
   "source": [
    "import pandas as pd"
   ]
  },
  {
   "cell_type": "markdown",
   "metadata": {},
   "source": [
    "## Get Information from Metadata\n",
    "https://www.synapse.org/Synapse:syn65941775"
   ]
  },
  {
   "cell_type": "code",
   "execution_count": 21,
   "metadata": {},
   "outputs": [
    {
     "name": "stdout",
     "output_type": "stream",
     "text": [
      "\n",
      "=== BIOSPECIMEN DATAFRAME ===\n",
      "Shape: 114 rows x 17 columns\n",
      "Columns: ['individualID', 'specimenID', 'specimenIdSource', 'organ', 'tissue', 'BrodmannArea', 'sampleStatus', 'tissueWeight', 'tissueVolume', 'nucleicAcidSource', 'cellType', 'fastingState', 'isPostMortem', 'samplingAge', 'samplingAgeUnits', 'visitNumber', 'assay']\n",
      "Number of unique individualIDs: 77\n",
      "Number of rows with missing individualID: 0\n",
      "\n",
      "=== INDIVIDUAL DATAFRAME ===\n",
      "Shape: 77 rows x 27 columns\n",
      "Columns: ['individualID', 'climbID', 'microchipID', 'birthID', 'matingID', 'individualIdSource', 'materialOrigin', 'sex', 'species', 'generation', 'dateBirth', 'ageDeath', 'ageDeathUnits', 'brainWeight', 'rodentWeight', 'rodentDiet', 'bedding', 'room', 'waterpH', 'treatmentDose', 'treatmentType', 'stockNumber', 'genotype', 'genotypeBackground', 'individualCommonGenotype', 'modelSystemName', 'officialName']\n",
      "Number of unique individualIDs: 77\n",
      "Number of rows with missing individualID: 0\n",
      "\n",
      "=== RNASEQMETADATA DATAFRAME ===\n",
      "Shape: 114 rows x 25 columns\n",
      "Columns: ['Component', 'specimenID', 'libraryID', 'assay', 'platform', 'RIN', 'referenceSet', 'rnaBatch', 'libraryBatch', 'sequencingBatch', 'libraryPrep', 'libraryPreparationMethod', 'libraryVersion', 'isStranded', 'readStrandOrigin', 'readLength', 'runType', 'totalReads', 'validBarcodeReads', 'DV200', 'inputTotalRNA', 'ribosomalDepletion', 'globinRemoval', 'Unnamed: 23', 'Unnamed: 24']\n",
      "'individualID' column not found.\n"
     ]
    }
   ],
   "source": [
    "# Read in the data\n",
    "biospecimen = pd.read_csv(\"UCI_Clu-rs2279590_h2kb_biospecimen_metadata.csv\") #syn66642160\n",
    "individual = pd.read_csv(\"UCI_Clu-rs2279590_h2kb_IndividualID.csv\") #syn66642159\n",
    "assay_metadata = pd.read_csv(\"UCI_Clu-rs2279590_h2kb-AssayRnaSeqMetadata.csv\") #syn66642162\n",
    "\n",
    "# Drop empty rows (all-NaN) for each dataframe\n",
    "biospecimen = biospecimen.dropna(how='all')\n",
    "individual = individual.dropna(how='all')\n",
    "assay_metadata = assay_metadata.dropna(how='all')\n",
    "\n",
    "\n",
    "# Print basic info for each dataframe\n",
    "for name, df in [(\"biospecimen\", biospecimen), (\"individual\", individual), (\"assay_metadata\", assay_metadata)]:\n",
    "    print(f\"\\n=== {name.upper()} DATAFRAME ===\")\n",
    "    print(f\"Shape: {df.shape[0]} rows x {df.shape[1]} columns\")\n",
    "    print(f\"Columns: {list(df.columns)}\")\n",
    "    if 'individualID' in df.columns:\n",
    "        print(f\"Number of unique individualIDs: {df['individualID'].nunique()}\")\n",
    "        print(f\"Number of rows with missing individualID: {df['individualID'].isna().sum()}\")\n",
    "    else:\n",
    "        print(\"'individualID' column not found.\")\n"
   ]
  },
  {
   "cell_type": "code",
   "execution_count": 22,
   "metadata": {},
   "outputs": [
    {
     "name": "stdout",
     "output_type": "stream",
     "text": [
      "\n",
      "=== MERGED DATAFRAME INFO ===\n",
      "Shape: 114 rows x 67 columns\n",
      "Columns: ['individualID', 'specimenID', 'specimenIdSource', 'organ', 'tissue', 'BrodmannArea', 'sampleStatus', 'tissueWeight', 'tissueVolume', 'nucleicAcidSource', 'cellType', 'fastingState', 'isPostMortem', 'samplingAge', 'samplingAgeUnits', 'visitNumber', 'assay_x', 'climbID', 'microchipID', 'birthID', 'matingID', 'individualIdSource', 'materialOrigin', 'sex', 'species', 'generation', 'dateBirth', 'ageDeath', 'ageDeathUnits', 'brainWeight', 'rodentWeight', 'rodentDiet', 'bedding', 'room', 'waterpH', 'treatmentDose', 'treatmentType', 'stockNumber', 'genotype', 'genotypeBackground', 'individualCommonGenotype', 'modelSystemName', 'officialName', 'Component', 'libraryID', 'assay_y', 'platform', 'RIN', 'referenceSet', 'rnaBatch', 'libraryBatch', 'sequencingBatch', 'libraryPrep', 'libraryPreparationMethod', 'libraryVersion', 'isStranded', 'readStrandOrigin', 'readLength', 'runType', 'totalReads', 'validBarcodeReads', 'DV200', 'inputTotalRNA', 'ribosomalDepletion', 'globinRemoval', 'Unnamed: 23', 'Unnamed: 24']\n",
      "Number of unique individualIDs: 77\n",
      "Number of rows with missing individualID: 0\n",
      "Number of unique specimenIDs: 114\n",
      "Number of rows with missing specimenID: 0\n",
      "\n",
      "First 5 rows of merged_df:\n",
      "   individualID specimenID specimenIdSource  organ       tissue  BrodmannArea  \\\n",
      "0       11615.0    11615lh          UCI_TMF  brain  hippocampus           NaN   \n",
      "1       11616.0    11616lh          UCI_TMF  brain  hippocampus           NaN   \n",
      "2       11617.0    11617lh          UCI_TMF  brain  hippocampus           NaN   \n",
      "3       11625.0    11625lh          UCI_TMF  brain  hippocampus           NaN   \n",
      "4       11626.0    11626lh          UCI_TMF  brain  hippocampus           NaN   \n",
      "\n",
      "  sampleStatus  tissueWeight  tissueVolume nucleicAcidSource  ...  \\\n",
      "0       frozen           NaN           NaN         bulk cell  ...   \n",
      "1       frozen           NaN           NaN         bulk cell  ...   \n",
      "2       frozen           NaN           NaN         bulk cell  ...   \n",
      "3       frozen           NaN           NaN         bulk cell  ...   \n",
      "4       frozen           NaN           NaN         bulk cell  ...   \n",
      "\n",
      "        readLength    runType totalReads  validBarcodeReads DV200  \\\n",
      "0  R1:150 ; R2:150  pairedEnd        NaN                NaN   NaN   \n",
      "1  R1:150 ; R2:150  pairedEnd        NaN                NaN   NaN   \n",
      "2  R1:150 ; R2:150  pairedEnd        NaN                NaN   NaN   \n",
      "3  R1:150 ; R2:150  pairedEnd        NaN                NaN   NaN   \n",
      "4  R1:150 ; R2:150  pairedEnd        NaN                NaN   NaN   \n",
      "\n",
      "   inputTotalRNA ribosomalDepletion  globinRemoval  Unnamed: 23 Unnamed: 24  \n",
      "0            NaN                NaN            NaN          NaN         NaN  \n",
      "1            NaN                NaN            NaN          NaN         NaN  \n",
      "2            NaN                NaN            NaN          NaN         NaN  \n",
      "3            NaN                NaN            NaN          NaN         NaN  \n",
      "4            NaN                NaN            NaN          NaN         NaN  \n",
      "\n",
      "[5 rows x 67 columns]\n"
     ]
    }
   ],
   "source": [
    "# Merge the dataframes\n",
    "\n",
    "merged1_df = pd.merge(biospecimen, individual, on='individualID', how='outer')\n",
    "# Do an inner merge because we only want metadata for specimens that theoretically have RNAseq data\n",
    "merged_df = pd.merge(merged1_df, assay_metadata, on='specimenID', how='inner')\n",
    "\n",
    "print(\"\\n=== MERGED DATAFRAME INFO ===\")\n",
    "print(f\"Shape: {merged_df.shape[0]} rows x {merged_df.shape[1]} columns\")\n",
    "print(f\"Columns: {list(merged_df.columns)}\")\n",
    "\n",
    "if 'individualID' in merged_df.columns:\n",
    "    print(f\"Number of unique individualIDs: {merged_df['individualID'].nunique()}\")\n",
    "    print(f\"Number of rows with missing individualID: {merged_df['individualID'].isna().sum()}\")\n",
    "else:\n",
    "    print(\"'individualID' column not found in merged_df.\")\n",
    "\n",
    "if 'specimenID' in merged_df.columns:\n",
    "    print(f\"Number of unique specimenIDs: {merged_df['specimenID'].nunique()}\")\n",
    "    print(f\"Number of rows with missing specimenID: {merged_df['specimenID'].isna().sum()}\")\n",
    "else:\n",
    "    print(\"'specimenID' column not found in merged_df.\")\n",
    "\n",
    "print(\"\\nFirst 5 rows of merged_df:\")\n",
    "print(merged_df.head())\n"
   ]
  },
  {
   "cell_type": "code",
   "execution_count": 24,
   "metadata": {},
   "outputs": [
    {
     "name": "stdout",
     "output_type": "stream",
     "text": [
      "\n",
      "Unique entries in 'tissue' column:\n",
      "- hippocampus\n",
      "- cerebral cortex\n",
      "\n",
      "Total unique tissues: 2\n",
      "\n",
      "Unique entries in 'genotype' column:\n",
      "- 5XFAD_carrier\n",
      "- 5XFAD_noncarrier\n",
      "- 5XFAD_carrier, Clu-rs2279590_KI_homozygous\n",
      "- Clu-rs2279590_KI_homozygous\n",
      "\n",
      "Total unique genotypes: 4\n"
     ]
    }
   ],
   "source": [
    "# Just looking at some stuff, not neccessary to run\n",
    "# Print unique entries for the \"tissue\" column in merged_df\n",
    "if \"tissue\" in merged_df.columns:\n",
    "    unique_tissues = merged_df[\"tissue\"].dropna().unique()\n",
    "    print(\"\\nUnique entries in 'tissue' column:\")\n",
    "    for t in unique_tissues:\n",
    "        print(f\"- {t}\")\n",
    "    print(f\"\\nTotal unique tissues: {len(unique_tissues)}\")\n",
    "else:\n",
    "    print(\"'tissue' column not found in merged_df.\")\n",
    "\n",
    "# Print unique entries for the \"genotype\" column in merged_df\n",
    "if \"genotype\" in merged_df.columns:\n",
    "    unique_genotypes = merged_df[\"genotype\"].dropna().unique()\n",
    "    print(\"\\nUnique entries in 'genotype' column:\")\n",
    "    for g in unique_genotypes:\n",
    "        print(f\"- {g}\")\n",
    "    print(f\"\\nTotal unique genotypes: {len(unique_genotypes)}\")\n",
    "else:\n",
    "    print(\"'genotype' column not found in merged_df.\")"
   ]
  },
  {
   "cell_type": "code",
   "execution_count": 25,
   "metadata": {},
   "outputs": [
    {
     "name": "stdout",
     "output_type": "stream",
     "text": [
      "\n",
      "=== GROUPED COUNTS BY ageDeath, sex, genotype ===\n",
      "    ageDeath     sex                                    genotype  count\n",
      "0        4.0  female                               5XFAD_carrier      5\n",
      "1        4.0  female  5XFAD_carrier, Clu-rs2279590_KI_homozygous      4\n",
      "2        4.0  female                            5XFAD_noncarrier      3\n",
      "3        4.0  female                 Clu-rs2279590_KI_homozygous      5\n",
      "4        4.0    male                               5XFAD_carrier      5\n",
      "5        4.0    male  5XFAD_carrier, Clu-rs2279590_KI_homozygous      5\n",
      "6        4.0    male                            5XFAD_noncarrier      5\n",
      "7        4.0    male                 Clu-rs2279590_KI_homozygous      5\n",
      "8       12.0  female                               5XFAD_carrier     10\n",
      "9       12.0  female  5XFAD_carrier, Clu-rs2279590_KI_homozygous      9\n",
      "10      12.0  female                            5XFAD_noncarrier     10\n",
      "11      12.0  female                 Clu-rs2279590_KI_homozygous      9\n",
      "12      12.0    male                               5XFAD_carrier     10\n",
      "13      12.0    male  5XFAD_carrier, Clu-rs2279590_KI_homozygous     10\n",
      "14      12.0    male                            5XFAD_noncarrier      9\n",
      "15      12.0    male                 Clu-rs2279590_KI_homozygous     10\n",
      "\n",
      "Number of unique groups: 16\n"
     ]
    }
   ],
   "source": [
    "# GET THE DATA FOR THE SPREADSHEET (https://docs.google.com/spreadsheets/d/11vmntFrno9ubNMOE8bbMejEROPygmeJZ/edit?pli=1&gid=757405125#gid=757405125)\n",
    "# Group merged_df by \"ageDeath\", \"sex\", and \"genotype\" and count the number of rows in each group\n",
    "grouped = merged_df.groupby([\"ageDeath\", \"sex\", \"genotype\"]).size().reset_index(name='count')\n",
    "\n",
    "print(\"\\n=== GROUPED COUNTS BY ageDeath, sex, genotype ===\")\n",
    "print(grouped)\n",
    "\n",
    "print(f\"\\nNumber of unique groups: {grouped.shape[0]}\")\n",
    "\n",
    "\n"
   ]
  },
  {
   "cell_type": "code",
   "execution_count": 7,
   "metadata": {},
   "outputs": [
    {
     "name": "stdout",
     "output_type": "stream",
     "text": [
      "\n",
      "=== Unique individualIDs per group (ageDeath, sex, genotype) ===\n",
      "\n",
      "Group: ageDeath=4.0, sex=female, genotype=5XFAD_carrier\n",
      "  Group individualIDs (5): [11615.0, 11616.0, 11617.0, 11625.0, 11626.0]\n",
      "  Group specimenIDs (5): ['11615lh', '11616lh', '11617lh', '11625lh', '11626lh']\n",
      "\n",
      "Group: ageDeath=4.0, sex=female, genotype=5XFAD_carrier, Clu-rs2279590_KI_homozygous\n",
      "  Group individualIDs (4): [12517.0, 12646.0, 12659.0, 12669.0]\n",
      "  Group specimenIDs (4): ['12517lh', '12646lh', '12659lh', '12669lh']\n",
      "\n",
      "Group: ageDeath=4.0, sex=female, genotype=5XFAD_noncarrier\n",
      "  Group individualIDs (3): [11627.0, 11628.0, 11629.0]\n",
      "  Group specimenIDs (3): ['11627lh', '11628lh', '11629lh']\n",
      "\n",
      "Group: ageDeath=4.0, sex=female, genotype=Clu-rs2279590_KI_homozygous\n",
      "  Group individualIDs (5): [12648.0, 12658.0, 12660.0, 12661.0, 12670.0]\n",
      "  Group specimenIDs (5): ['12648lh', '12658lh', '12660lh', '12661lh', '12670lh']\n",
      "\n",
      "Group: ageDeath=4.0, sex=male, genotype=5XFAD_carrier\n",
      "  Group individualIDs (5): [11611.0, 11619.0, 11621.0, 11622.0, 11631.0]\n",
      "  Group specimenIDs (5): ['11611lh', '11619lh', '11621lh', '11622lh', '11631lh']\n",
      "\n",
      "Group: ageDeath=4.0, sex=male, genotype=5XFAD_carrier, Clu-rs2279590_KI_homozygous\n",
      "  Group individualIDs (5): [12705.0, 12708.0, 12715.0, 12717.0, 12724.0]\n",
      "  Group specimenIDs (5): ['12705lh', '12708lh', '12715lh', '12717lh', '12724lh']\n",
      "\n",
      "Group: ageDeath=4.0, sex=male, genotype=5XFAD_noncarrier\n",
      "  Group individualIDs (5): [11614.0, 11620.0, 11623.0, 11624.0, 11636.0]\n",
      "  Group specimenIDs (5): ['11614lh', '11620lh', '11623lh', '11624lh', '11636lh']\n",
      "\n",
      "Group: ageDeath=4.0, sex=male, genotype=Clu-rs2279590_KI_homozygous\n",
      "  Group individualIDs (5): [12703.0, 12706.0, 12707.0, 12716.0, 12723.0]\n",
      "  Group specimenIDs (5): ['12703lh', '12706lh', '12707lh', '12716lh', '12723lh']\n",
      "\n",
      "Group: ageDeath=12.0, sex=female, genotype=5XFAD_carrier\n",
      "  Group individualIDs (10): [12433.0, 12433.0, 12440.0, 12440.0, 12443.0, 12443.0, 12450.0, 12450.0, 12452.0, 12452.0]\n",
      "  Group specimenIDs (10): ['12433lh', '12433lc', '12440lh', '12440lc', '12443lh', '12443lc', '12450lh', '12450lc', '12452lh', '12452lc']\n",
      "\n",
      "Group: ageDeath=12.0, sex=female, genotype=5XFAD_carrier, Clu-rs2279590_KI_homozygous\n",
      "  Group individualIDs (9): [12682.0, 12682.0, 12683.0, 12683.0, 12688.0, 12688.0, 12689.0, 12689.0, 12680.0]\n",
      "  Group specimenIDs (9): ['12682lh', '12682lc', '12683lh', '12683lc', '12688lh', '12688lc', '12689lh', '12689lc', '12680lc']\n",
      "\n",
      "Group: ageDeath=12.0, sex=female, genotype=5XFAD_noncarrier\n",
      "  Group individualIDs (10): [12426.0, 12426.0, 12432.0, 12432.0, 12441.0, 12441.0, 12442.0, 12442.0, 12487.0, 12487.0]\n",
      "  Group specimenIDs (10): ['12426lh', '12426lc', '12432lh', '12432lc', '12441lh', '12441lc', '12442lh', '12442lc', '12487lh', '12487lc']\n",
      "\n",
      "Group: ageDeath=12.0, sex=female, genotype=Clu-rs2279590_KI_homozygous\n",
      "  Group individualIDs (9): [12681.0, 12681.0, 12687.0, 12687.0, 12696.0, 12696.0, 12709.0, 12709.0, 12695.0]\n",
      "  Group specimenIDs (9): ['12681lh', '12681lc', '12687lh', '12687lc', '12696lh', '12696lc', '12709lh', '12709lc', '12695lc']\n",
      "\n",
      "Group: ageDeath=12.0, sex=male, genotype=5XFAD_carrier\n",
      "  Group individualIDs (10): [12420.0, 12420.0, 12422.0, 12422.0, 12423.0, 12423.0, 12424.0, 12424.0, 12802.0, 12802.0]\n",
      "  Group specimenIDs (10): ['12420lh', '12420lc', '12422lh', '12422lc', '12423lh', '12423lc', '12424lh', '12424lc', '12802lh', '12802lc']\n",
      "\n",
      "Group: ageDeath=12.0, sex=male, genotype=5XFAD_carrier, Clu-rs2279590_KI_homozygous\n",
      "  Group individualIDs (10): [12642.0, 12642.0, 12643.0, 12643.0, 12698.0, 12698.0, 12701.0, 12701.0, 12702.0, 12702.0]\n",
      "  Group specimenIDs (10): ['12642lh', '12642lc', '12643lh', '12643lc', '12698lh', '12698lc', '12701lh', '12701lc', '12702lh', '12702lc']\n",
      "\n",
      "Group: ageDeath=12.0, sex=male, genotype=5XFAD_noncarrier\n",
      "  Group individualIDs (9): [12419.0, 12419.0, 12421.0, 12421.0, 12429.0, 12429.0, 12434.0, 12434.0, 12435.0]\n",
      "  Group specimenIDs (9): ['12419lh', '12419lc', '12421lh', '12421lc', '12429lh', '12429lc', '12434lh', '12434lc', '12435lh']\n",
      "\n",
      "Group: ageDeath=12.0, sex=male, genotype=Clu-rs2279590_KI_homozygous\n",
      "  Group individualIDs (10): [12639.0, 12639.0, 12640.0, 12640.0, 12641.0, 12641.0, 12691.0, 12691.0, 12692.0, 12692.0]\n",
      "  Group specimenIDs (10): ['12639lh', '12639lc', '12640lh', '12640lc', '12641lh', '12641lc', '12691lh', '12691lc', '12692lh', '12692lc']\n"
     ]
    }
   ],
   "source": [
    "# For each group in grouped, print the unique individualIDs and their count\n",
    "print(\"\\n=== Unique individualIDs and specimenIDs per group (ageDeath, sex, genotype) ===\")\n",
    "for idx, row in grouped.iterrows():\n",
    "    age = row[\"ageDeath\"]\n",
    "    sex = row[\"sex\"]\n",
    "    genotype = row[\"genotype\"]\n",
    "    # Filter merged_df for this group\n",
    "    mask = (\n",
    "        (merged_df[\"ageDeath\"] == age) &\n",
    "        (merged_df[\"sex\"] == sex) &\n",
    "        (merged_df[\"genotype\"] == genotype)\n",
    "    )\n",
    "    group_df = merged_df[mask]\n",
    "    group_individual_ids = group_df[\"individualID\"].dropna()#.unique()\n",
    "    group_specimen_ids = group_df[\"specimenID\"].dropna()#.unique()\n",
    "    print(f\"\\nGroup: ageDeath={age}, sex={sex}, genotype={genotype}\")\n",
    "    print(f\"  Group individualIDs ({len(group_individual_ids)}): {list(group_individual_ids)}\")\n",
    "    print(f\"  Group specimenIDs ({len(group_specimen_ids)}): {list(group_specimen_ids)}\")\n"
   ]
  },
  {
   "cell_type": "markdown",
   "metadata": {},
   "source": [
    "## Validate Metadata\n",
    "Look at the actual RNAseq data and make sure that all samples exist and align with what is stated in the metadata.\n",
    "\n",
    "https://www.synapse.org/Synapse:syn65941772"
   ]
  },
  {
   "cell_type": "code",
   "execution_count": 12,
   "metadata": {},
   "outputs": [],
   "source": [
    "# In terminal, run:\n",
    "# synapse list syn65941772 > UCI_Clu-h2kbKI_rnaseqdata_list.csv\n",
    "\n",
    "df = pd.read_csv(\"UCI_Clu-h2kbKI_rnaseqdata_list.csv\", header=None, names=[\"syn_id\", \"file_name\"])"
   ]
  },
  {
   "cell_type": "code",
   "execution_count": 13,
   "metadata": {},
   "outputs": [],
   "source": [
    "# Parse the filename to get the metadata\n",
    "def parse_filename(fname):\n",
    "    # Split by underscore\n",
    "    parts = str(fname).split(\"_\")\n",
    "    # Defensive: if not enough parts, return Nones\n",
    "    if len(parts) < 7:\n",
    "        return {\n",
    "            \"lane\": None,\n",
    "            \"tissue\": None,\n",
    "            \"sex\": None,\n",
    "            \"genotype\": None,\n",
    "            \"age\": None,\n",
    "            \"individualID\": None,\n",
    "            \"read\": None\n",
    "        }\n",
    "    # Find the index of the sex (first \"M\" or \"F\")\n",
    "    try:\n",
    "        sex_idx = next(i for i, p in enumerate(parts) if p in (\"M\", \"F\"))\n",
    "    except StopIteration:\n",
    "        sex_idx = 2  # fallback, but may be wrong\n",
    "    # Find the index of the age (endswith \"mo\")\n",
    "    try:\n",
    "        age_idx = next(i for i, p in enumerate(parts) if p.endswith(\"mo\"))\n",
    "    except StopIteration:\n",
    "        age_idx = sex_idx + 2  # fallback\n",
    "    # Find the index of the individualID (should be after age)\n",
    "    try:\n",
    "        indiv_idx = age_idx + 1\n",
    "        individualID = parts[indiv_idx]\n",
    "    except IndexError:\n",
    "        individualID = None\n",
    "    # Read is always the last part before extension, e.g. ..._1.fq.gz or ..._2.fq.gz\n",
    "    read_part = parts[-1]\n",
    "    # If read_part contains a dot, split and take the first part (e.g. \"1.fq.gz\" -> \"1\")\n",
    "    read = read_part.split(\".\")[0]\n",
    "    # Genotype is everything between sex and age\n",
    "    genotype = \"_\".join(parts[sex_idx + 1:age_idx])\n",
    "    return {\n",
    "        \"lane\": parts[0],\n",
    "        \"tissue\": parts[1],\n",
    "        \"sex\": parts[sex_idx],\n",
    "        \"genotype\": genotype,\n",
    "        \"age\": parts[age_idx],\n",
    "        \"individualID\": individualID,\n",
    "        \"read\": read\n",
    "    }\n",
    "\n",
    "parsed = df[\"file_name\"].apply(parse_filename)\n",
    "parsed_df = pd.DataFrame(parsed.tolist())"
   ]
  },
  {
   "cell_type": "code",
   "execution_count": 14,
   "metadata": {},
   "outputs": [
    {
     "name": "stdout",
     "output_type": "stream",
     "text": [
      "All entries have both read=1 and read=2.\n"
     ]
    }
   ],
   "source": [
    "# Make sure all samples have both read1 and read2\n",
    "# For each unique sample (excluding 'read'), check if both read=1 and read=2 exist\n",
    "group_cols = [col for col in parsed_df.columns if col != \"read\"]\n",
    "read_counts = parsed_df.groupby(group_cols)[\"read\"].nunique().reset_index()\n",
    "# Entries where the number of unique reads is not 2 (i.e., missing a read)\n",
    "missing_reads = read_counts[read_counts[\"read\"] != 2]\n",
    "if not missing_reads.empty:\n",
    "    print(\"Entries missing either read=1 or read=2:\")\n",
    "    display(missing_reads)\n",
    "else:\n",
    "    print(\"All entries have both read=1 and read=2.\")"
   ]
  },
  {
   "cell_type": "code",
   "execution_count": 15,
   "metadata": {},
   "outputs": [],
   "source": [
    "# Drop read 2\n",
    "# Merge parsed_df back to df to keep all columns\n",
    "merged_df_validation = pd.concat([df.reset_index(drop=True), parsed_df.reset_index(drop=True)], axis=1)\n",
    "\n",
    "# Identify columns to compare for \"exact same value\" (excluding 'read')\n",
    "compare_cols = [col for col in parsed_df.columns if col != \"read\"]\n",
    "\n",
    "# Sort so that read=1 comes before read=2 for duplicates\n",
    "merged_df_sorted = merged_df_validation.sort_values(by=compare_cols + [\"read\"])\n",
    "\n",
    "# Drop duplicates, keeping the first (which will be read=1 if both exist)\n",
    "dedup_df = merged_df_sorted.drop_duplicates(subset=compare_cols, keep=\"first\")\n",
    "\n",
    "new_df = dedup_df[parsed_df.columns].reset_index(drop=True)"
   ]
  },
  {
   "cell_type": "code",
   "execution_count": 16,
   "metadata": {},
   "outputs": [
    {
     "name": "stdout",
     "output_type": "stream",
     "text": [
      "\n",
      "=== GROUPED COUNTS BY age, sex, genotype ===\n",
      "     age sex                 genotype  count\n",
      "0   12mo   F                5xFADHEMI     10\n",
      "1   12mo   F  5xFADHEMI_CLU-h2kbKI_HO      8\n",
      "2   12mo   F                  5xFADWT     10\n",
      "3   12mo   F            CLU-h2kbKI_HO      9\n",
      "4   12mo   M                5xFADHEMI     10\n",
      "5   12mo   M  5xFADHEMI_CLU-h2kbKI_HO     10\n",
      "6   12mo   M                  5xFADWT      9\n",
      "7   12mo   M            CLU-h2kbKI_HO     10\n",
      "8    4mo   F                5xFADHEMI      5\n",
      "9    4mo   F  5xFADHEMI_CLU-h2kbKI_HO      4\n",
      "10   4mo   F                  5xFADWT      3\n",
      "11   4mo   F            CLU-h2kbKI_HO      5\n",
      "12   4mo   M                5xFADHEMI      5\n",
      "13   4mo   M  5xFADHEMI_CLU-h2kbKI_HO      5\n",
      "14   4mo   M                  5xFADWT      5\n",
      "15   4mo   M            CLU-h2kbKI_HO      5\n",
      "\n",
      "Number of unique groups: 16\n"
     ]
    }
   ],
   "source": [
    "# Get metadata to compare\n",
    "# Group merged_df by \"age\", \"sex\", and \"genotype\" and count the number of rows in each group\n",
    "grouped = new_df.groupby([\"age\", \"sex\", \"genotype\"]).size().reset_index(name='count')\n",
    "\n",
    "print(\"\\n=== GROUPED COUNTS BY age, sex, genotype ===\")\n",
    "print(grouped)\n",
    "\n",
    "print(f\"\\nNumber of unique groups: {grouped.shape[0]}\")"
   ]
  },
  {
   "cell_type": "code",
   "execution_count": 19,
   "metadata": {},
   "outputs": [
    {
     "name": "stdout",
     "output_type": "stream",
     "text": [
      "\n",
      "=== Unique individualIDs per group (age, sex, genotype) ===\n",
      "Group (age=12mo, sex=F, genotype=5xFADHEMI) (count=5): ['12433', '12440', '12443', '12450', '12452']\n",
      "Group (age=12mo, sex=F, genotype=5xFADHEMI_CLU-h2kbKI_HO) (count=4): ['12682', '12683', '12688', '12689']\n",
      "Group (age=12mo, sex=F, genotype=5xFADWT) (count=5): ['12426', '12432', '12441', '12442', '12487']\n",
      "Group (age=12mo, sex=F, genotype=CLU-h2kbKI_HO) (count=5): ['12681', '12687', '12696', '12709', '12695']\n",
      "Group (age=12mo, sex=M, genotype=5xFADHEMI) (count=5): ['12420', '12422', '12423', '12424', '12802']\n",
      "Group (age=12mo, sex=M, genotype=5xFADHEMI_CLU-h2kbKI_HO) (count=5): ['12642', '12643', '12698', '12701', '12702']\n",
      "Group (age=12mo, sex=M, genotype=5xFADWT) (count=5): ['12419', '12421', '12429', '12434', '12435']\n",
      "Group (age=12mo, sex=M, genotype=CLU-h2kbKI_HO) (count=5): ['12639', '12640', '12641', '12691', '12692']\n",
      "Group (age=4mo, sex=F, genotype=5xFADHEMI) (count=5): ['11615', '11616', '11617', '11625', '11626']\n",
      "Group (age=4mo, sex=F, genotype=5xFADHEMI_CLU-h2kbKI_HO) (count=4): ['12517', '12646', '12659', '12669']\n",
      "Group (age=4mo, sex=F, genotype=5xFADWT) (count=3): ['11627', '11628', '11629']\n",
      "Group (age=4mo, sex=F, genotype=CLU-h2kbKI_HO) (count=5): ['12648', '12658', '12660', '12661', '12670']\n",
      "Group (age=4mo, sex=M, genotype=5xFADHEMI) (count=5): ['11611', '11619', '11621', '11622', '11631']\n",
      "Group (age=4mo, sex=M, genotype=5xFADHEMI_CLU-h2kbKI_HO) (count=5): ['12705', '12708', '12715', '12717', '12724']\n",
      "Group (age=4mo, sex=M, genotype=5xFADWT) (count=5): ['11614', '11620', '11623', '11624', '11636']\n",
      "Group (age=4mo, sex=M, genotype=CLU-h2kbKI_HO) (count=5): ['12703', '12706', '12707', '12716', '12723']\n"
     ]
    }
   ],
   "source": [
    "# For each group in grouped, print the unique individualIDs in that group\n",
    "print(\"\\n=== Unique individualIDs per group (age, sex, genotype) ===\")\n",
    "for _, row in grouped.iterrows():\n",
    "    age, sex, genotype = row[\"age\"], row[\"sex\"], row[\"genotype\"]\n",
    "    # Filter new_df for this group\n",
    "    ids = new_df[\n",
    "        (new_df[\"age\"] == age) &\n",
    "        (new_df[\"sex\"] == sex) &\n",
    "        (new_df[\"genotype\"] == genotype)\n",
    "    ][\"individualID\"].unique()\n",
    "    print(f\"Group (age={age}, sex={sex}, genotype={genotype}) (count={len(ids)}): {list(ids)}\")\n"
   ]
  },
  {
   "cell_type": "markdown",
   "metadata": {},
   "source": [
    "## Explore what the differences are"
   ]
  },
  {
   "cell_type": "code",
   "execution_count": null,
   "metadata": {},
   "outputs": [],
   "source": [
    "filtered_df = new_df[(new_df[\"sex\"] == \"F\") & (new_df[\"age\"] == \"12mo\") & (new_df[\"genotype\"] == \"5xFADHEMI_CLU-h2kbKI_HO\")]\n",
    "print(\"Rows with sex=F, age=12mo, genotype=5xFADHEMI_CLU-h2kbKI_HO:\")\n",
    "print(filtered_df)"
   ]
  },
  {
   "cell_type": "code",
   "execution_count": null,
   "metadata": {},
   "outputs": [],
   "source": [
    "# Filter merged_df for the specified criteria\n",
    "filtered_df = merged_df[\n",
    "    (merged_df[\"ageDeath\"] == 12.0) &\n",
    "    (merged_df[\"sex\"] == \"female\") &\n",
    "    (merged_df[\"genotype\"] == \"5XFAD_carrier, Clu-rs2279590_KI_homozygous\")\n",
    "]\n",
    "\n",
    "print(\"\\nRows where ageDeath=12mo, sex=female, and genotype=5XFAD_carrier, Clu-rs2279590_KI_homozygous:\")\n",
    "print(filtered_df)\n"
   ]
  }
 ],
 "metadata": {
  "kernelspec": {
   "display_name": "adt_py310",
   "language": "python",
   "name": "python3"
  },
  "language_info": {
   "codemirror_mode": {
    "name": "ipython",
    "version": 3
   },
   "file_extension": ".py",
   "mimetype": "text/x-python",
   "name": "python",
   "nbconvert_exporter": "python",
   "pygments_lexer": "ipython3",
   "version": "3.10.18"
  }
 },
 "nbformat": 4,
 "nbformat_minor": 2
}
